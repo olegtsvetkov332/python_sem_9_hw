{
  "cells": [
    {
      "cell_type": "markdown",
      "metadata": {
        "id": "bgk83YPvwkzP"
      },
      "source": [
        "Задача 40: Работать с файлом california_housing_train.csv, который находится в папке sample_data. Определить среднюю стоимость дома, где кол-во людей от 0 до 500 (population)."
      ]
    },
    {
      "cell_type": "code",
      "execution_count": null,
      "metadata": {
        "colab": {
          "base_uri": "https://localhost:8080/"
        },
        "id": "V6Akr1kfwoVa",
        "outputId": "6a0db23c-70e5-4a50-8334-84117dabef5d"
      },
      "outputs": [],
      "source": [
        "import pandas as pd\n",
        "df = pd.read_csv('sample_data/california_housing_train.csv')\n",
        "df[(df['population'] > 0) & (df['population'] < 500)].median_house_value.mean()"
      ]
    },
    {
      "cell_type": "markdown",
      "metadata": {
        "id": "8T8E5xjLw2gq"
      },
      "source": [
        "Задача 42: Узнать какая максимальная households в зоне минимального значения population."
      ]
    },
    {
      "cell_type": "code",
      "execution_count": null,
      "metadata": {
        "colab": {
          "base_uri": "https://localhost:8080/"
        },
        "id": "PyzfIwtbw5Na",
        "outputId": "d7c01f1d-85f6-43d5-e860-2584067e8b47"
      },
      "outputs": [],
      "source": [
        "min_population = df.population.min()\n",
        "df[df['population'] == min_population].households.max()"
      ]
    }
  ],
  "metadata": {
    "colab": {
      "provenance": []
    },
    "kernelspec": {
      "display_name": "Python 3",
      "name": "python3"
    },
    "language_info": {
      "codemirror_mode": {
        "name": "ipython",
        "version": 3
      },
      "file_extension": ".py",
      "mimetype": "text/x-python",
      "name": "python",
      "nbconvert_exporter": "python",
      "pygments_lexer": "ipython3",
      "version": "3.11.5"
    }
  },
  "nbformat": 4,
  "nbformat_minor": 0
}
